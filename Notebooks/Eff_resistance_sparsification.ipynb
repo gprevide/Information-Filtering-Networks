{
  "nbformat": 4,
  "nbformat_minor": 0,
  "metadata": {
    "colab": {
      "name": "Eff_resistance_sparsification.ipynb",
      "provenance": [],
      "authorship_tag": "ABX9TyMFZj24QsAc0YtJp7TCleEM",
      "include_colab_link": true
    },
    "kernelspec": {
      "name": "python3",
      "display_name": "Python 3"
    }
  },
  "cells": [
    {
      "cell_type": "markdown",
      "metadata": {
        "id": "view-in-github",
        "colab_type": "text"
      },
      "source": [
        "<a href=\"https://colab.research.google.com/github/gprevide/Information-Filtering-Networks/blob/master/Notebooks/Eff_resistance_sparsification.ipynb\" target=\"_parent\"><img src=\"https://colab.research.google.com/assets/colab-badge.svg\" alt=\"Open In Colab\"/></a>"
      ]
    },
    {
      "cell_type": "markdown",
      "metadata": {
        "id": "96v5rhSsmmHF"
      },
      "source": [
        "This notebook is based on the following paper:\r\n",
        "\r\n",
        "Spielman, Daniel A., and Nikhil Srivastava. \"Graph sparsification by effective resistances.\" *SIAM Journal on Computing* 40, no. 6 (2011): 1913-1926.\r\n"
      ]
    },
    {
      "cell_type": "code",
      "metadata": {
        "id": "jQzcIUsAoCG7"
      },
      "source": [
        "import numpy as np\r\n",
        "import matplotlib.pyplot as plt \r\n"
      ],
      "execution_count": 4,
      "outputs": []
    },
    {
      "cell_type": "code",
      "metadata": {
        "id": "aS_yeiJFpVbp"
      },
      "source": [
        "full_network = np.random.random_sample((30,30))"
      ],
      "execution_count": 7,
      "outputs": []
    },
    {
      "cell_type": "code",
      "metadata": {
        "colab": {
          "base_uri": "https://localhost:8080/",
          "height": 283
        },
        "id": "N4cVVsd3oo5y",
        "outputId": "fef55f2d-d374-41f0-db30-4ca8bc8c4726"
      },
      "source": [
        "plt.imshow(full_network)"
      ],
      "execution_count": 8,
      "outputs": [
        {
          "output_type": "execute_result",
          "data": {
            "text/plain": [
              "<matplotlib.image.AxesImage at 0x7f38978e99b0>"
            ]
          },
          "metadata": {
            "tags": []
          },
          "execution_count": 8
        },
        {
          "output_type": "display_data",
          "data": {
            "image/png": "[encoded data removed]",
            "text/plain": [
              "<Figure size 432x288 with 1 Axes>"
            ]
          },
          "metadata": {
            "tags": [],
            "needs_background": "light"
          }
        }
      ]
    },
    {
      "cell_type": "code",
      "metadata": {
        "id": "EBV4HzzAq4OM"
      },
      "source": [
        ""
      ],
      "execution_count": null,
      "outputs": []
    }
  ]
}